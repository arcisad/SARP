{
 "cells": [
  {
   "cell_type": "code",
   "execution_count": 1,
   "metadata": {
    "collapsed": true
   },
   "outputs": [],
   "source": [
    "import tensorflow as tf\n",
    "import numpy as np\n",
    "import pandas as pd\n",
    "from sklearn.preprocessing import Imputer\n",
    "from sklearn.preprocessing import MinMaxScaler "
   ]
  },
  {
   "cell_type": "code",
   "execution_count": 14,
   "metadata": {},
   "outputs": [],
   "source": [
    "xl = pd.ExcelFile(\"sarp.xlsx\")\n",
    "ds = xl.parse('sarp')\n",
    "X_uncleaned = ds.loc[:, \"Baseline_preDrug_FEV1pp\":\"Baseline_preDrug_FEV1_FVC\"]\n",
    "imputer = Imputer(strategy=\"median\")\n",
    "imputer.fit(X_uncleaned)\n",
    "X_cleaned = imputer.transform(X_uncleaned)\n",
    "Xds = pd.DataFrame(X_cleaned, columns=X_uncleaned.columns).astype(np.float32)\n",
    "age = ds.loc[:,\"ageasthonset\"].astype(np.float32)\n",
    "Xds = Xds[\"Baseline_preDrug_FEV1_FVC\"]\n",
    "Xds = pd.DataFrame(Xds)\n",
    "Xds = Xds.join(age)\n",
    "Xds = Xds.join(ds[\"gender\"])\n",
    "#Xpd = Xds\n",
    "Xds = pd.DataFrame.as_matrix(Xds)\n",
    "yds = ds['status_factorized'].astype(np.int32)\n",
    "#yds = pd.DataFrame.as_matrix(yds)\n",
    "yds = yds.values.ravel()\n",
    "#ypd = pd.DataFrame(yds)\n",
    "Xds[0,:]\n",
    "\n",
    "#scaler = MinMaxScaler()\n",
    "#scaler.fit(Xds)\n",
    "#Xds = scaler.transform(Xds)"
   ]
  },
  {
   "cell_type": "code",
   "execution_count": 3,
   "metadata": {
    "collapsed": true
   },
   "outputs": [],
   "source": [
    "n_inputs = 3\n",
    "n_hidden1 = 4\n",
    "n_hidden2 = 2\n",
    "n_outputs = 1\n",
    "Xtf = tf.placeholder(tf.float32, shape=(None, n_inputs), name=\"Xtf\")\n",
    "ytf = tf.placeholder(tf.int32, shape=(None, n_outputs), name=\"ytf\")"
   ]
  },
  {
   "cell_type": "code",
   "execution_count": 4,
   "metadata": {},
   "outputs": [],
   "source": [
    "## Xavier initialization\n",
    "#with tf.name_scope(\"dnn\"):\n",
    "#    hidden1 = tf.layers.dense(Xtf, n_hidden1, name=\"hidden1\", activation=tf.nn.relu)\n",
    "#    hidden2 = tf.layers.dense(hidden1, n_hidden2, name=\"hidden2\", activation=tf.nn.relu)\n",
    "#    logits = tf.layers.dense(hidden2, n_outputs, name=\"outputs\")\n",
    "\n",
    "## He initialization\n",
    "#with tf.name_scope(\"dnn\"):\n",
    "#    he_init = tf.contrib.layers.variance_scaling_initializer()\n",
    "#    hidden1 = tf.layers.dense(Xtf, n_hidden1, name=\"hidden1\", activation=tf.nn.relu, kernel_initializer=he_init)\n",
    "#    hidden2 = tf.layers.dense(hidden1, n_hidden2, name=\"hidden2\", activation=tf.nn.relu)\n",
    "#    logits = tf.layers.dense(hidden2, n_outputs, name=\"outputs\")\n",
    "\n",
    "## He initialization with batch normalization and dropout\n",
    "\n",
    "training = tf.placeholder_with_default(False, shape=(), name='traning')\n",
    "dropout_rate = 0.5 # = = 1 - keep_prob \n",
    "X_drop = tf.layers.dropout(Xtf, dropout_rate, training = training)\n",
    "with tf.name_scope(\"dnn\"):\n",
    "    he_init = tf.contrib.layers.variance_scaling_initializer()\n",
    "    hidden1 = tf.layers.dense(X_drop, n_hidden1, name=\"hidden1\", kernel_initializer=he_init)\n",
    "    hidden1_drop = tf.layers.dropout(hidden1, dropout_rate, training=training)\n",
    "    bn1 = tf.layers.batch_normalization(hidden1_drop, training=training, momentum=0.9)\n",
    "    bn1_act = tf.nn.relu(bn1)\n",
    "    #bn1_act = tf.nn.tanh(bn1)\n",
    "    hidden2 = tf.layers.dense(bn1_act, n_hidden2, name=\"hidden2\")\n",
    "    hidden2_drop = tf.layers.dropout(hidden2, dropout_rate, training=training)\n",
    "    bn2 = tf.layers.batch_normalization(hidden2_drop, training=training, momentum=0.9)\n",
    "    bn2_act = tf.nn.relu(bn2)\n",
    "    #bn2_act = tf.nn.tanh(bn2)\n",
    "    logits_before_bn = tf.layers.dense(bn2_act, n_outputs, name=\"outputs\")\n",
    "    logits = tf.layers.batch_normalization(logits_before_bn, training=training, momentum=0.9)"
   ]
  },
  {
   "cell_type": "code",
   "execution_count": 5,
   "metadata": {},
   "outputs": [
    {
     "data": {
      "text/plain": [
       "'1.2.1'"
      ]
     },
     "execution_count": 5,
     "metadata": {},
     "output_type": "execute_result"
    }
   ],
   "source": [
    "tf.__version__"
   ]
  },
  {
   "cell_type": "code",
   "execution_count": 6,
   "metadata": {},
   "outputs": [
    {
     "data": {
      "text/plain": [
       "<tf.Tensor 'dnn/batch_normalization_3/batchnorm/add_1:0' shape=(?, 1) dtype=float32>"
      ]
     },
     "execution_count": 6,
     "metadata": {},
     "output_type": "execute_result"
    }
   ],
   "source": [
    "logits"
   ]
  },
  {
   "cell_type": "code",
   "execution_count": 17,
   "metadata": {},
   "outputs": [],
   "source": [
    "with tf.name_scope(\"loss\"):\n",
    "    #xentropy = tf.nn.softmax_cross_entropy_with_logits(labels=ytf, logits=logits)\n",
    "    xentropy = tf.abs(tf.cast(ytf, tf.float32) - logits) \n",
    "    loss=tf.sqrt(tf.reduce_sum(tf.square(xentropy, name=\"loss\")))"
   ]
  },
  {
   "cell_type": "code",
   "execution_count": 18,
   "metadata": {
    "collapsed": true
   },
   "outputs": [],
   "source": [
    "learning_rate = 0.01\n",
    "with tf.name_scope(\"train\"):\n",
    "    #Simple Gradient Decent or Nestrov Accelerated Gradient optimizer\n",
    "    #optimizer = tf.train.GradientDescentOptimizer(learning_rate)\n",
    "    optimizer = tf.train.MomentumOptimizer(learning_rate, momentum=0.9, use_nesterov=True)\n",
    "    training_op = optimizer.minimize(loss)"
   ]
  },
  {
   "cell_type": "code",
   "execution_count": 19,
   "metadata": {
    "collapsed": true
   },
   "outputs": [],
   "source": [
    "with tf.name_scope(\"eval\"):\n",
    "    # Convert logits to label indexes\n",
    "    #correct_pred = tf.nn.in_top_k(logits, tf.cast(ytf, tf.int32), 1)\n",
    "    correct_pred = tf.argmax(logits, 1)\n",
    "    # Define an accuracy metric\n",
    "    accuracy = tf.reduce_mean(tf.cast(correct_pred, tf.float32), name=\"accuracy\")"
   ]
  },
  {
   "cell_type": "code",
   "execution_count": 20,
   "metadata": {
    "collapsed": true
   },
   "outputs": [],
   "source": [
    "init = tf.global_variables_initializer()\n",
    "asver = tf.train.Saver()"
   ]
  },
  {
   "cell_type": "code",
   "execution_count": 21,
   "metadata": {},
   "outputs": [
    {
     "data": {
      "text/plain": [
       "(1, 50)"
      ]
     },
     "execution_count": 21,
     "metadata": {},
     "output_type": "execute_result"
    }
   ],
   "source": [
    "n_epochs = 40\n",
    "batch_size = 50\n",
    "num_iters = 10\n",
    "tf.set_random_seed(1234)\n",
    "X_train = np.transpose(Xds[:1000,:]).reshape(3, 1000)\n",
    "X_test = np.transpose(Xds[1001:,:]).reshape(3, 357)\n",
    "y_train = np.transpose(yds[:1000]).reshape(1, 1000)\n",
    "y_test = np.transpose(yds[1001:]).reshape(1, 357)\n",
    "l = len(np.transpose(X_train))\n",
    "total_batch = int(l / batch_size)\n",
    "Xtf_batches = np.array_split(X_train, total_batch, axis=1)\n",
    "ytf_batches = np.array_split(y_train, total_batch, axis=1)\n",
    "ytf_batches[1].shape"
   ]
  },
  {
   "cell_type": "code",
   "execution_count": 22,
   "metadata": {
    "collapsed": true
   },
   "outputs": [],
   "source": [
    "with tf.Session() as sess:\n",
    "    init.run()\n",
    "    #for j in range(num_iters):\n",
    "    for epoch in range(n_epochs):\n",
    "        for i in range(total_batch):\n",
    "            batch_X = Xtf_batches[i]\n",
    "            batch_y = ytf_batches[i]\n",
    "            _, loss_value = sess.run([training_op, loss], feed_dict={Xtf: np.transpose(batch_X), ytf: np.transpose(batch_y)})\n",
    "    predicted = sess.run([correct_pred], feed_dict={Xtf: np.transpose(X_test)})\n",
    "    Z = logits.eval( feed_dict ={ Xtf: np.transpose(X_test)})\n",
    "    y_pred = np.argmax(Z, axis = 1) "
   ]
  },
  {
   "cell_type": "code",
   "execution_count": 23,
   "metadata": {},
   "outputs": [
    {
     "name": "stdout",
     "output_type": "stream",
     "text": [
      "[array([0, 0, 0, 0, 0, 0, 0, 0, 0, 0, 0, 0, 0, 0, 0, 0, 0, 0, 0, 0, 0, 0, 0,\n",
      "       0, 0, 0, 0, 0, 0, 0, 0, 0, 0, 0, 0, 0, 0, 0, 0, 0, 0, 0, 0, 0, 0, 0,\n",
      "       0, 0, 0, 0, 0, 0, 0, 0, 0, 0, 0, 0, 0, 0, 0, 0, 0, 0, 0, 0, 0, 0, 0,\n",
      "       0, 0, 0, 0, 0, 0, 0, 0, 0, 0, 0, 0, 0, 0, 0, 0, 0, 0, 0, 0, 0, 0, 0,\n",
      "       0, 0, 0, 0, 0, 0, 0, 0, 0, 0, 0, 0, 0, 0, 0, 0, 0, 0, 0, 0, 0, 0, 0,\n",
      "       0, 0, 0, 0, 0, 0, 0, 0, 0, 0, 0, 0, 0, 0, 0, 0, 0, 0, 0, 0, 0, 0, 0,\n",
      "       0, 0, 0, 0, 0, 0, 0, 0, 0, 0, 0, 0, 0, 0, 0, 0, 0, 0, 0, 0, 0, 0, 0,\n",
      "       0, 0, 0, 0, 0, 0, 0, 0, 0, 0, 0, 0, 0, 0, 0, 0, 0, 0, 0, 0, 0, 0, 0,\n",
      "       0, 0, 0, 0, 0, 0, 0, 0, 0, 0, 0, 0, 0, 0, 0, 0, 0, 0, 0, 0, 0, 0, 0,\n",
      "       0, 0, 0, 0, 0, 0, 0, 0, 0, 0, 0, 0, 0, 0, 0, 0, 0, 0, 0, 0, 0, 0, 0,\n",
      "       0, 0, 0, 0, 0, 0, 0, 0, 0, 0, 0, 0, 0, 0, 0, 0, 0, 0, 0, 0, 0, 0, 0,\n",
      "       0, 0, 0, 0, 0, 0, 0, 0, 0, 0, 0, 0, 0, 0, 0, 0, 0, 0, 0, 0, 0, 0, 0,\n",
      "       0, 0, 0, 0, 0, 0, 0, 0, 0, 0, 0, 0, 0, 0, 0, 0, 0, 0, 0, 0, 0, 0, 0,\n",
      "       0, 0, 0, 0, 0, 0, 0, 0, 0, 0, 0, 0, 0, 0, 0, 0, 0, 0, 0, 0, 0, 0, 0,\n",
      "       0, 0, 0, 0, 0, 0, 0, 0, 0, 0, 0, 0, 0, 0, 0, 0, 0, 0, 0, 0, 0, 0, 0,\n",
      "       0, 0, 0, 0, 0, 0, 0, 0, 0, 0, 0, 0], dtype=int64)]\n"
     ]
    }
   ],
   "source": [
    "print(predicted)"
   ]
  },
  {
   "cell_type": "code",
   "execution_count": null,
   "metadata": {
    "collapsed": true
   },
   "outputs": [],
   "source": [
    "print(y_test)"
   ]
  },
  {
   "cell_type": "code",
   "execution_count": null,
   "metadata": {
    "collapsed": true
   },
   "outputs": [],
   "source": [
    "print(y_pred)"
   ]
  },
  {
   "cell_type": "code",
   "execution_count": null,
   "metadata": {
    "collapsed": true
   },
   "outputs": [],
   "source": [
    "ytf"
   ]
  },
  {
   "cell_type": "code",
   "execution_count": null,
   "metadata": {
    "collapsed": true
   },
   "outputs": [],
   "source": []
  }
 ],
 "metadata": {
  "kernelspec": {
   "display_name": "Python 3",
   "language": "python",
   "name": "python3"
  },
  "language_info": {
   "codemirror_mode": {
    "name": "ipython",
    "version": 3
   },
   "file_extension": ".py",
   "mimetype": "text/x-python",
   "name": "python",
   "nbconvert_exporter": "python",
   "pygments_lexer": "ipython3",
   "version": "3.6.5"
  }
 },
 "nbformat": 4,
 "nbformat_minor": 2
}
