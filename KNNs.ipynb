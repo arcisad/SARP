{
 "cells": [
  {
   "cell_type": "code",
   "execution_count": 1,
   "metadata": {
    "collapsed": true
   },
   "outputs": [],
   "source": [
    "import numpy as np\n",
    "from sklearn import datasets\n",
    "from sklearn.pipeline import Pipeline\n",
    "from sklearn.preprocessing import StandardScaler\n",
    "from sklearn.svm import LinearSVC\n",
    "from sklearn.preprocessing import Imputer\n",
    "from sklearn.model_selection import cross_val_score as cvs\n",
    "from matplotlib import pyplot as plt\n",
    "from sklearn.metrics import f1_score as f1\n",
    "from sklearn.metrics import confusion_matrix, precision_score, recall_score \n",
    "from sklearn.preprocessing import PolynomialFeatures\n",
    "from sklearn.svm import SVC \n",
    "import pandas as pd\n",
    "from pandas import ExcelFile\n",
    "from mpl_toolkits.mplot3d import Axes3D\n",
    "import tensorflow as tf\n",
    "import scipy.io as io\n",
    "from sklearn.model_selection import GridSearchCV as gs\n",
    "from sklearn.model_selection import train_test_split\n",
    "from sklearn.ensemble import AdaBoostClassifier\n",
    "from sklearn.neighbors import KNeighborsClassifier as knc\n",
    "from sklearn.ensemble import BaggingClassifier"
   ]
  },
  {
   "cell_type": "code",
   "execution_count": 2,
   "metadata": {
    "collapsed": true
   },
   "outputs": [],
   "source": [
    "def show_class(output):\n",
    "    if output == 1:\n",
    "        print(\"Mild asthma\")\n",
    "    elif output == 2:\n",
    "        print(\"Moderate asthma\")\n",
    "    else:\n",
    "        print(\"Severe asthma\")"
   ]
  },
  {
   "cell_type": "code",
   "execution_count": 3,
   "metadata": {
    "collapsed": true
   },
   "outputs": [],
   "source": [
    "xl = pd.ExcelFile(\"sarp.xlsx\")\n",
    "ds = xl.parse('sarp')\n",
    "X_uncleaned = ds.loc[:, \"Baseline_preDrug_FEV1pp\":\"Baseline_preDrug_FEV1_FVC\"]\n",
    "imputer = Imputer(strategy=\"median\")\n",
    "imputer.fit(X_uncleaned)\n",
    "X_cleaned = imputer.transform(X_uncleaned)\n",
    "X = pd.DataFrame(X_cleaned, columns=X_uncleaned.columns).astype(np.float64)\n",
    "y = ds.loc[:,\"ageasthonset\"].astype(np.float64)\n",
    "stds = ds['status_factorized'].astype(np.int64)\n",
    "X2 = X\n",
    "X2 = X[\"Baseline_preDrug_FEV1_FVC\"]\n",
    "X2 = pd.DataFrame(X2)\n",
    "X2 = X2.join(y)\n",
    "X2 = X2.join(ds[\"gender\"])\n",
    "y2 = stds\n",
    "y2 = y2.values.ravel()\n",
    "y2pd = pd.DataFrame(y2)\n",
    "X2pd = X2\n",
    "X2 = pd.DataFrame.as_matrix(X2)\n",
    "X_train, X_test, y_train, y_test = train_test_split(X2, y2, test_size=0.33)"
   ]
  },
  {
   "cell_type": "code",
   "execution_count": 85,
   "metadata": {
    "collapsed": true
   },
   "outputs": [],
   "source": [
    "knn_clf = Pipeline([(\"scaler\", StandardScaler()),\n",
    "                    (\"knc\", knc(weights='uniform', n_jobs=-1, n_neighbors=12))])"
   ]
  },
  {
   "cell_type": "code",
   "execution_count": 86,
   "metadata": {},
   "outputs": [
    {
     "data": {
      "text/plain": [
       "Pipeline(memory=None,\n",
       "     steps=[('scaler', StandardScaler(copy=True, with_mean=True, with_std=True)), ('knc', KNeighborsClassifier(algorithm='auto', leaf_size=30, metric='minkowski',\n",
       "           metric_params=None, n_jobs=-1, n_neighbors=12, p=2,\n",
       "           weights='uniform'))])"
      ]
     },
     "execution_count": 86,
     "metadata": {},
     "output_type": "execute_result"
    }
   ],
   "source": [
    "knn_clf.fit(X_train, y_train)"
   ]
  },
  {
   "cell_type": "code",
   "execution_count": 87,
   "metadata": {},
   "outputs": [
    {
     "name": "stdout",
     "output_type": "stream",
     "text": [
      "Mild asthma\n"
     ]
    }
   ],
   "source": [
    "res = knn_clf.predict([[.72, 15, 1]])\n",
    "show_class(res[0])"
   ]
  },
  {
   "cell_type": "code",
   "execution_count": 88,
   "metadata": {},
   "outputs": [
    {
     "data": {
      "text/plain": [
       "(449,)"
      ]
     },
     "execution_count": 88,
     "metadata": {},
     "output_type": "execute_result"
    }
   ],
   "source": [
    "y_pred = knn_clf.predict(X_test)\n",
    "y_pred.shape"
   ]
  },
  {
   "cell_type": "code",
   "execution_count": 89,
   "metadata": {},
   "outputs": [
    {
     "name": "stdout",
     "output_type": "stream",
     "text": [
      "[[125  12  27]\n",
      " [ 16  21  52]\n",
      " [ 62  13 121]]\n",
      "0.594654788419\n",
      "0.594654788419\n",
      "0.594654788419\n"
     ]
    }
   ],
   "source": [
    "print(confusion_matrix(y_test, y_pred))\n",
    "print(f1(y_test,y_pred,average='micro'))\n",
    "print(precision_score(y_test, y_pred, average='micro'))\n",
    "print(recall_score(y_test, y_pred, average='micro'))"
   ]
  },
  {
   "cell_type": "code",
   "execution_count": 29,
   "metadata": {},
   "outputs": [
    {
     "name": "stdout",
     "output_type": "stream",
     "text": [
      "{'knc__n_jobs': 1, 'knc__n_neighbors': 18}\n",
      "Pipeline(memory=None,\n",
      "     steps=[('scaler', StandardScaler(copy=True, with_mean=True, with_std=True)), ('knc', KNeighborsClassifier(algorithm='auto', leaf_size=30, metric='minkowski',\n",
      "           metric_params=None, n_jobs=1, n_neighbors=18, p=2,\n",
      "           weights='distance'))])\n"
     ]
    }
   ],
   "source": [
    "param_grid = [ {'knc__n_jobs': [1, 3, 5, 7], 'knc__n_neighbors': [3, 6, 9, 12, 15, 18, 21]}] \n",
    "grid_search = gs(knn_clf, param_grid, cv=5, scoring='neg_mean_squared_error')\n",
    "grid_search.fit(X_train, y_train)\n",
    "print(grid_search.best_params_)\n",
    "print(grid_search.best_estimator_)"
   ]
  },
  {
   "cell_type": "code",
   "execution_count": 15,
   "metadata": {},
   "outputs": [
    {
     "name": "stdout",
     "output_type": "stream",
     "text": [
      "[[104  12  38]\n",
      " [ 29  16  56]\n",
      " [ 57  34 103]]\n",
      "0.496659242762\n",
      "0.496659242762\n",
      "0.496659242762\n"
     ]
    },
    {
     "data": {
      "text/plain": [
       "(909, 3)"
      ]
     },
     "execution_count": 15,
     "metadata": {},
     "output_type": "execute_result"
    }
   ],
   "source": [
    "knn_clf = Pipeline([(\"scaler\", StandardScaler()),\n",
    "                    (\"knc\", knc(weights='distance', n_jobs=1, n_neighbors=12))])\n",
    "knn_clf.fit(X_train, y_train)\n",
    "y_pred = knn_clf.predict(X_test)\n",
    "print(confusion_matrix(y_test, y_pred))\n",
    "print(f1(y_test,y_pred,average='micro'))\n",
    "print(precision_score(y_test, y_pred, average='micro'))\n",
    "print(recall_score(y_test, y_pred, average='micro'))\n",
    "X_train.shape"
   ]
  },
  {
   "cell_type": "code",
   "execution_count": 17,
   "metadata": {},
   "outputs": [
    {
     "name": "stdout",
     "output_type": "stream",
     "text": [
      "Severe asthma\n",
      "[[107   9  38]\n",
      " [ 41  23  37]\n",
      " [ 81  26  87]]\n",
      "0.483296213808\n",
      "0.483296213808\n",
      "0.483296213808\n"
     ]
    }
   ],
   "source": [
    "bag_clf = BaggingClassifier(knc(), \n",
    "                            n_estimators = 200, max_samples = 909, \n",
    "                            bootstrap = True, n_jobs =-1) \n",
    "bag_clf.fit(X_train, y_train)\n",
    "res = bag_clf.predict([[.65, 45, 1]])\n",
    "show_class(res[0])\n",
    "y_pred = bag_clf.predict(X_test)\n",
    "print(confusion_matrix(y_test, y_pred))\n",
    "print(f1(y_test,y_pred,average='micro'))\n",
    "print(precision_score(y_test, y_pred, average='micro'))\n",
    "print(recall_score(y_test, y_pred, average='micro'))"
   ]
  },
  {
   "cell_type": "code",
   "execution_count": null,
   "metadata": {
    "collapsed": true
   },
   "outputs": [],
   "source": []
  }
 ],
 "metadata": {
  "kernelspec": {
   "display_name": "Python 3",
   "language": "python",
   "name": "python3"
  },
  "language_info": {
   "codemirror_mode": {
    "name": "ipython",
    "version": 3
   },
   "file_extension": ".py",
   "mimetype": "text/x-python",
   "name": "python",
   "nbconvert_exporter": "python",
   "pygments_lexer": "ipython3",
   "version": "3.6.3"
  }
 },
 "nbformat": 4,
 "nbformat_minor": 2
}
