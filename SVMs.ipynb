{
 "cells": [
  {
   "cell_type": "code",
   "execution_count": 1,
   "metadata": {
    "collapsed": true
   },
   "outputs": [],
   "source": [
    "import numpy as np\n",
    "from sklearn import datasets\n",
    "from sklearn.pipeline import Pipeline\n",
    "from sklearn.preprocessing import StandardScaler\n",
    "from sklearn.svm import LinearSVC\n",
    "from sklearn.preprocessing import Imputer\n",
    "from sklearn.model_selection import cross_val_score as cvs\n",
    "from matplotlib import pyplot as plt\n",
    "from sklearn.metrics import f1_score as f1\n",
    "from sklearn.metrics import confusion_matrix, precision_score, recall_score \n",
    "from sklearn.preprocessing import PolynomialFeatures\n",
    "from sklearn.svm import SVC \n",
    "import pandas as pd\n",
    "from pandas import ExcelFile\n",
    "from mpl_toolkits.mplot3d import Axes3D\n",
    "import tensorflow as tf\n",
    "import scipy.io as io\n",
    "from sklearn.model_selection import GridSearchCV as gs\n",
    "from sklearn.svm import LinearSVR, SVR\n",
    "from sklearn.model_selection import train_test_split\n",
    "from sklearn.ensemble import AdaBoostClassifier"
   ]
  },
  {
   "cell_type": "code",
   "execution_count": 2,
   "metadata": {
    "collapsed": true
   },
   "outputs": [],
   "source": [
    "def show_class(output):\n",
    "    if output == 1:\n",
    "        print(\"Mild asthma\")\n",
    "    elif output == 2:\n",
    "        print(\"Moderate asthma\")\n",
    "    else:\n",
    "        print(\"Severe asthma\")"
   ]
  },
  {
   "cell_type": "code",
   "execution_count": 3,
   "metadata": {},
   "outputs": [
    {
     "name": "stdout",
     "output_type": "stream",
     "text": [
      "(909, 3)\n",
      "(909,)\n"
     ]
    }
   ],
   "source": [
    "xl = pd.ExcelFile(\"sarp.xlsx\")\n",
    "ds = xl.parse('sarp')\n",
    "X_uncleaned = ds.loc[:, \"Baseline_preDrug_FEV1pp\":\"Baseline_preDrug_FEV1_FVC\"]\n",
    "imputer = Imputer(strategy=\"median\")\n",
    "imputer.fit(X_uncleaned)\n",
    "X_cleaned = imputer.transform(X_uncleaned)\n",
    "X = pd.DataFrame(X_cleaned, columns=X_uncleaned.columns).astype(np.float64)\n",
    "y = ds.loc[:,\"ageasthonset\"].astype(np.float64)\n",
    "stds = ds['status_factorized'].astype(np.int64)\n",
    "X2 = X\n",
    "X2 = X[\"Baseline_preDrug_FEV1_FVC\"]\n",
    "X2 = pd.DataFrame(X2)\n",
    "X2 = X2.join(y)\n",
    "X2 = X2.join(ds[\"gender\"])\n",
    "y2 = stds\n",
    "y2 = y2.values.ravel()\n",
    "y2pd = pd.DataFrame(y2)\n",
    "X2pd = X2\n",
    "X2 = pd.DataFrame.as_matrix(X2)\n",
    "X_train, X_test, y_train, y_test = train_test_split(X2, y2, test_size=0.33)\n",
    "print(X_train.shape)\n",
    "print(y_train.shape)"
   ]
  },
  {
   "cell_type": "code",
   "execution_count": 3,
   "metadata": {
    "collapsed": true
   },
   "outputs": [],
   "source": [
    "svm_clf = Pipeline([(\"scaler\", StandardScaler()),\n",
    "                   (\"linear_svc\", LinearSVC(C=1, loss=\"hinge\"))])\n",
    "polynomial_svm_clf = Pipeline([(\"poly_features\", PolynomialFeatures(degree=3)), \n",
    "                               (\"scaler\", StandardScaler()), \n",
    "                               (\"poly_clf\", LinearSVC(C=10, loss=\"hinge\"))])\n",
    "kernel_svm_clf = Pipeline([(\"scaler\", StandardScaler()), \n",
    "                                (\"kernel_clf\", SVC(kernel=\"poly\", degree=3, coef0=1, C=5))]) "
   ]
  },
  {
   "cell_type": "code",
   "execution_count": 19,
   "metadata": {},
   "outputs": [
    {
     "data": {
      "text/plain": [
       "Pipeline(memory=None,\n",
       "     steps=[('scaler', StandardScaler(copy=True, with_mean=True, with_std=True)), ('linear_svc', LinearSVC(C=1, class_weight=None, dual=True, fit_intercept=True,\n",
       "     intercept_scaling=1, loss='hinge', max_iter=1000, multi_class='ovr',\n",
       "     penalty='l2', random_state=None, tol=0.0001, verbose=0))])"
      ]
     },
     "execution_count": 19,
     "metadata": {},
     "output_type": "execute_result"
    }
   ],
   "source": [
    "svm_clf.fit(X_train,y_train)"
   ]
  },
  {
   "cell_type": "code",
   "execution_count": 20,
   "metadata": {},
   "outputs": [
    {
     "name": "stdout",
     "output_type": "stream",
     "text": [
      "Severe asthma\n"
     ]
    }
   ],
   "source": [
    "res = svm_clf.predict([[.65, 45, 2]]).astype(np.int32)\n",
    "show_class(res[0])"
   ]
  },
  {
   "cell_type": "code",
   "execution_count": 21,
   "metadata": {},
   "outputs": [
    {
     "name": "stdout",
     "output_type": "stream",
     "text": [
      "[ 0.98965235  1.07052216]\n"
     ]
    }
   ],
   "source": [
    "scores = cvs(svm_clf, X2, y2, scoring=\"neg_mean_squared_error\", cv=2)\n",
    "svm_scores = np.sqrt(-scores)\n",
    "print(svm_scores)"
   ]
  },
  {
   "cell_type": "code",
   "execution_count": 22,
   "metadata": {
    "collapsed": true
   },
   "outputs": [],
   "source": [
    "y_pred = svm_clf.predict(X_test).astype(np.int32)"
   ]
  },
  {
   "cell_type": "code",
   "execution_count": 29,
   "metadata": {},
   "outputs": [
    {
     "name": "stdout",
     "output_type": "stream",
     "text": [
      "[[ 85   0  76]\n",
      " [ 49   0  40]\n",
      " [107   0  92]]\n",
      "0.39420935412\n",
      "0.39420935412\n",
      "0.39420935412\n"
     ]
    }
   ],
   "source": [
    "print(confusion_matrix(y_test, y_pred))\n",
    "print(f1(y_test,y_pred,average='micro'))\n",
    "print(precision_score(y_test, y_pred, average='micro'))\n",
    "print(recall_score(y_test, y_pred, average='micro'))"
   ]
  },
  {
   "cell_type": "code",
   "execution_count": null,
   "metadata": {
    "collapsed": true
   },
   "outputs": [],
   "source": [
    "#param_grid = [ {'kernel_clf__kernel': [\"poly\", \"rbf\"], 'kernel_clf__degree': [3, 4, 5, 6], \n",
    "#                'kernel_clf__coef0': [0.5, 1, 1.5], 'kernel_clf__C': [1, 2, 3, 4, 5]} ]\n",
    "#grid_search = gs(kernel_svm_clf, param_grid, cv=5, scoring='neg_mean_squared_error')\n",
    "grid_search.fit(X_train, y_train)\n",
    "print(grid_search.best_params_)\n",
    "print(grid_search.best_estimator_)"
   ]
  },
  {
   "cell_type": "code",
   "execution_count": null,
   "metadata": {
    "collapsed": true
   },
   "outputs": [],
   "source": [
    "ada_clf = AdaBoostClassifier(svm_clf)"
   ]
  },
  {
   "cell_type": "code",
   "execution_count": null,
   "metadata": {
    "collapsed": true
   },
   "outputs": [],
   "source": [
    "ada_clf.fit(X_train, y_train)"
   ]
  }
 ],
 "metadata": {
  "kernelspec": {
   "display_name": "Python 3",
   "language": "python",
   "name": "python3"
  },
  "language_info": {
   "codemirror_mode": {
    "name": "ipython",
    "version": 3
   },
   "file_extension": ".py",
   "mimetype": "text/x-python",
   "name": "python",
   "nbconvert_exporter": "python",
   "pygments_lexer": "ipython3",
   "version": "3.6.3"
  }
 },
 "nbformat": 4,
 "nbformat_minor": 2
}
